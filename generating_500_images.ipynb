{
  "nbformat": 4,
  "nbformat_minor": 0,
  "metadata": {
    "colab": {
      "provenance": [],
      "gpuType": "T4"
    },
    "kernelspec": {
      "name": "python3",
      "display_name": "Python 3"
    },
    "language_info": {
      "name": "python"
    },
    "accelerator": "GPU"
  },
  "cells": [
    {
      "cell_type": "code",
      "execution_count": null,
      "metadata": {
        "colab": {
          "base_uri": "https://localhost:8080/"
        },
        "id": "K6DLasejSDJt",
        "outputId": "191f1f27-b814-4048-c829-ee4c07b78dd6"
      },
      "outputs": [
        {
          "output_type": "stream",
          "name": "stdout",
          "text": [
            "Mounted at /content/drive\n"
          ]
        }
      ],
      "source": [
        "# Mount Google Drive to access your data\n",
        "from google.colab import drive\n",
        "drive.mount('/content/drive')"
      ]
    },
    {
      "cell_type": "code",
      "source": [
        "images_path = '/content/drive/MyDrive/deepsea 19'"
      ],
      "metadata": {
        "id": "a6mesynBSHxT"
      },
      "execution_count": null,
      "outputs": []
    },
    {
      "cell_type": "code",
      "source": [
        "# Install albumentations and tensorflow_hub\n",
        "!pip install albumentations tensorflow tensorflow_hub\n"
      ],
      "metadata": {
        "colab": {
          "base_uri": "https://localhost:8080/"
        },
        "id": "vILpChDeSKf4",
        "outputId": "8df50dd8-1c21-4d01-d5f2-4a7769415424"
      },
      "execution_count": null,
      "outputs": [
        {
          "output_type": "stream",
          "name": "stdout",
          "text": [
            "Requirement already satisfied: albumentations in /usr/local/lib/python3.11/dist-packages (1.4.20)\n",
            "Requirement already satisfied: tensorflow in /usr/local/lib/python3.11/dist-packages (2.17.1)\n",
            "Requirement already satisfied: tensorflow_hub in /usr/local/lib/python3.11/dist-packages (0.16.1)\n",
            "Requirement already satisfied: numpy>=1.24.4 in /usr/local/lib/python3.11/dist-packages (from albumentations) (1.26.4)\n",
            "Requirement already satisfied: scipy>=1.10.0 in /usr/local/lib/python3.11/dist-packages (from albumentations) (1.13.1)\n",
            "Requirement already satisfied: PyYAML in /usr/local/lib/python3.11/dist-packages (from albumentations) (6.0.2)\n",
            "Requirement already satisfied: pydantic>=2.7.0 in /usr/local/lib/python3.11/dist-packages (from albumentations) (2.10.6)\n",
            "Requirement already satisfied: albucore==0.0.19 in /usr/local/lib/python3.11/dist-packages (from albumentations) (0.0.19)\n",
            "Requirement already satisfied: eval-type-backport in /usr/local/lib/python3.11/dist-packages (from albumentations) (0.2.2)\n",
            "Requirement already satisfied: opencv-python-headless>=4.9.0.80 in /usr/local/lib/python3.11/dist-packages (from albumentations) (4.11.0.86)\n",
            "Requirement already satisfied: stringzilla>=3.10.4 in /usr/local/lib/python3.11/dist-packages (from albucore==0.0.19->albumentations) (3.11.3)\n",
            "Requirement already satisfied: absl-py>=1.0.0 in /usr/local/lib/python3.11/dist-packages (from tensorflow) (1.4.0)\n",
            "Requirement already satisfied: astunparse>=1.6.0 in /usr/local/lib/python3.11/dist-packages (from tensorflow) (1.6.3)\n",
            "Requirement already satisfied: flatbuffers>=24.3.25 in /usr/local/lib/python3.11/dist-packages (from tensorflow) (25.1.21)\n",
            "Requirement already satisfied: gast!=0.5.0,!=0.5.1,!=0.5.2,>=0.2.1 in /usr/local/lib/python3.11/dist-packages (from tensorflow) (0.6.0)\n",
            "Requirement already satisfied: google-pasta>=0.1.1 in /usr/local/lib/python3.11/dist-packages (from tensorflow) (0.2.0)\n",
            "Requirement already satisfied: h5py>=3.10.0 in /usr/local/lib/python3.11/dist-packages (from tensorflow) (3.12.1)\n",
            "Requirement already satisfied: libclang>=13.0.0 in /usr/local/lib/python3.11/dist-packages (from tensorflow) (18.1.1)\n",
            "Requirement already satisfied: ml-dtypes<0.5.0,>=0.3.1 in /usr/local/lib/python3.11/dist-packages (from tensorflow) (0.4.1)\n",
            "Requirement already satisfied: opt-einsum>=2.3.2 in /usr/local/lib/python3.11/dist-packages (from tensorflow) (3.4.0)\n",
            "Requirement already satisfied: packaging in /usr/local/lib/python3.11/dist-packages (from tensorflow) (24.2)\n",
            "Requirement already satisfied: protobuf!=4.21.0,!=4.21.1,!=4.21.2,!=4.21.3,!=4.21.4,!=4.21.5,<5.0.0dev,>=3.20.3 in /usr/local/lib/python3.11/dist-packages (from tensorflow) (4.25.6)\n",
            "Requirement already satisfied: requests<3,>=2.21.0 in /usr/local/lib/python3.11/dist-packages (from tensorflow) (2.32.3)\n",
            "Requirement already satisfied: setuptools in /usr/local/lib/python3.11/dist-packages (from tensorflow) (75.1.0)\n",
            "Requirement already satisfied: six>=1.12.0 in /usr/local/lib/python3.11/dist-packages (from tensorflow) (1.17.0)\n",
            "Requirement already satisfied: termcolor>=1.1.0 in /usr/local/lib/python3.11/dist-packages (from tensorflow) (2.5.0)\n",
            "Requirement already satisfied: typing-extensions>=3.6.6 in /usr/local/lib/python3.11/dist-packages (from tensorflow) (4.12.2)\n",
            "Requirement already satisfied: wrapt>=1.11.0 in /usr/local/lib/python3.11/dist-packages (from tensorflow) (1.17.2)\n",
            "Requirement already satisfied: grpcio<2.0,>=1.24.3 in /usr/local/lib/python3.11/dist-packages (from tensorflow) (1.70.0)\n",
            "Requirement already satisfied: tensorboard<2.18,>=2.17 in /usr/local/lib/python3.11/dist-packages (from tensorflow) (2.17.1)\n",
            "Requirement already satisfied: keras>=3.2.0 in /usr/local/lib/python3.11/dist-packages (from tensorflow) (3.5.0)\n",
            "Requirement already satisfied: tensorflow-io-gcs-filesystem>=0.23.1 in /usr/local/lib/python3.11/dist-packages (from tensorflow) (0.37.1)\n",
            "Requirement already satisfied: tf-keras>=2.14.1 in /usr/local/lib/python3.11/dist-packages (from tensorflow_hub) (2.17.0)\n",
            "Requirement already satisfied: wheel<1.0,>=0.23.0 in /usr/local/lib/python3.11/dist-packages (from astunparse>=1.6.0->tensorflow) (0.45.1)\n",
            "Requirement already satisfied: rich in /usr/local/lib/python3.11/dist-packages (from keras>=3.2.0->tensorflow) (13.9.4)\n",
            "Requirement already satisfied: namex in /usr/local/lib/python3.11/dist-packages (from keras>=3.2.0->tensorflow) (0.0.8)\n",
            "Requirement already satisfied: optree in /usr/local/lib/python3.11/dist-packages (from keras>=3.2.0->tensorflow) (0.14.0)\n",
            "Requirement already satisfied: annotated-types>=0.6.0 in /usr/local/lib/python3.11/dist-packages (from pydantic>=2.7.0->albumentations) (0.7.0)\n",
            "Requirement already satisfied: pydantic-core==2.27.2 in /usr/local/lib/python3.11/dist-packages (from pydantic>=2.7.0->albumentations) (2.27.2)\n",
            "Requirement already satisfied: charset-normalizer<4,>=2 in /usr/local/lib/python3.11/dist-packages (from requests<3,>=2.21.0->tensorflow) (3.4.1)\n",
            "Requirement already satisfied: idna<4,>=2.5 in /usr/local/lib/python3.11/dist-packages (from requests<3,>=2.21.0->tensorflow) (3.10)\n",
            "Requirement already satisfied: urllib3<3,>=1.21.1 in /usr/local/lib/python3.11/dist-packages (from requests<3,>=2.21.0->tensorflow) (2.3.0)\n",
            "Requirement already satisfied: certifi>=2017.4.17 in /usr/local/lib/python3.11/dist-packages (from requests<3,>=2.21.0->tensorflow) (2024.12.14)\n",
            "Requirement already satisfied: markdown>=2.6.8 in /usr/local/lib/python3.11/dist-packages (from tensorboard<2.18,>=2.17->tensorflow) (3.7)\n",
            "Requirement already satisfied: tensorboard-data-server<0.8.0,>=0.7.0 in /usr/local/lib/python3.11/dist-packages (from tensorboard<2.18,>=2.17->tensorflow) (0.7.2)\n",
            "Requirement already satisfied: werkzeug>=1.0.1 in /usr/local/lib/python3.11/dist-packages (from tensorboard<2.18,>=2.17->tensorflow) (3.1.3)\n",
            "Requirement already satisfied: MarkupSafe>=2.1.1 in /usr/local/lib/python3.11/dist-packages (from werkzeug>=1.0.1->tensorboard<2.18,>=2.17->tensorflow) (3.0.2)\n",
            "Requirement already satisfied: markdown-it-py>=2.2.0 in /usr/local/lib/python3.11/dist-packages (from rich->keras>=3.2.0->tensorflow) (3.0.0)\n",
            "Requirement already satisfied: pygments<3.0.0,>=2.13.0 in /usr/local/lib/python3.11/dist-packages (from rich->keras>=3.2.0->tensorflow) (2.18.0)\n",
            "Requirement already satisfied: mdurl~=0.1 in /usr/local/lib/python3.11/dist-packages (from markdown-it-py>=2.2.0->rich->keras>=3.2.0->tensorflow) (0.1.2)\n"
          ]
        }
      ]
    },
    {
      "cell_type": "code",
      "source": [
        "import os\n",
        "import cv2\n",
        "import numpy as np\n",
        "import tensorflow as tf\n",
        "import tensorflow_hub as hub\n",
        "from albumentations import HorizontalFlip, Rotate, RandomBrightnessContrast, RandomCrop, Compose\n"
      ],
      "metadata": {
        "id": "NBxL6wh3SO0H",
        "colab": {
          "base_uri": "https://localhost:8080/"
        },
        "outputId": "fcd9c5ed-3879-465b-c72d-6c36f31ebbb3"
      },
      "execution_count": null,
      "outputs": [
        {
          "output_type": "stream",
          "name": "stderr",
          "text": [
            "/usr/local/lib/python3.11/dist-packages/albumentations/__init__.py:24: UserWarning: A new version of Albumentations is available: 2.0.5 (you have 1.4.20). Upgrade using: pip install -U albumentations. To disable automatic update checks, set the environment variable NO_ALBUMENTATIONS_UPDATE to 1.\n",
            "  check_for_updates()\n"
          ]
        }
      ]
    },
    {
      "cell_type": "code",
      "source": [
        "import os\n",
        "import cv2\n",
        "import numpy as np\n",
        "from albumentations import HorizontalFlip, Rotate, RandomBrightnessContrast, RandomCrop, Compose\n",
        "\n",
        "# Load images from a specific class directory\n",
        "def load_images(path):\n",
        "    images = []\n",
        "    for img_name in os.listdir(path):\n",
        "        img_path = os.path.join(path, img_name)\n",
        "        img = cv2.imread(img_path)\n",
        "        if img is not None:\n",
        "            img = cv2.resize(img, (128, 128))\n",
        "            images.append(img)\n",
        "    return np.array(images)\n",
        "\n",
        "# Define augmentation function using albumentations\n",
        "def augment_image(image):\n",
        "    transform = Compose([\n",
        "        HorizontalFlip(p=0.5),\n",
        "        Rotate(limit=40, p=0.5),\n",
        "        RandomBrightnessContrast(p=0.5),\n",
        "        RandomCrop(width=128, height=128)\n",
        "    ])\n",
        "    augmented_image = transform(image=image)['image']\n",
        "    return augmented_image\n",
        "\n",
        "# Generate augmented images up to a target count\n",
        "def generate_augmented_images(images, target_count=100):\n",
        "    augmented_images = []\n",
        "    while len(augmented_images) < target_count:\n",
        "        for img in images:\n",
        "            augmented_image = augment_image(img)\n",
        "            augmented_images.append(augmented_image)\n",
        "            if len(augmented_images) >= target_count:\n",
        "                break\n",
        "    return np.array(augmented_images)\n",
        "\n",
        "# Set paths for each class and generate augmented images for each\n",
        "base_path = '/content/drive/MyDrive/deepsea 19'\n",
        "target_count_per_class = 500\n",
        "\n",
        "for class_folder in os.listdir(base_path):\n",
        "    class_path = os.path.join(base_path, class_folder)\n",
        "    if os.path.isdir(class_path):\n",
        "        print(f\"Processing {class_folder}...\")\n",
        "\n",
        "        # Load images for the specific class\n",
        "        class_images = load_images(class_path)\n",
        "\n",
        "        # Generate augmented images for the class\n",
        "        augmented_images = generate_augmented_images(class_images, target_count=target_count_per_class)\n",
        "\n",
        "        # Save augmented images in a separate folder for each class\n",
        "        augmented_folder = os.path.join(base_path, f\"{class_folder}_augmented\")\n",
        "        if not os.path.exists(augmented_folder):\n",
        "            os.makedirs(augmented_folder)\n",
        "\n",
        "        # Save augmented images\n",
        "        for i, img in enumerate(augmented_images):\n",
        "            img_path = os.path.join(augmented_folder, f\"augmented_image_500{i}.jpg\")\n",
        "            cv2.imwrite(img_path, img)\n",
        "\n",
        "        print(f\"Generated {len(augmented_images)} augmented images for {class_folder}.\")\n"
      ],
      "metadata": {
        "colab": {
          "base_uri": "https://localhost:8080/"
        },
        "id": "6fQDma93SSCD",
        "outputId": "5d644e38-b7f0-4490-b610-5cf1239ec96a"
      },
      "execution_count": null,
      "outputs": [
        {
          "output_type": "stream",
          "name": "stdout",
          "text": [
            "Processing sea urchins_augmented...\n",
            "Generated 500 augmented images for sea urchins_augmented.\n",
            "Processing sea rays_augmented...\n",
            "Generated 500 augmented images for sea rays_augmented.\n",
            "Processing nudibranchs_augmented...\n",
            "Generated 500 augmented images for nudibranchs_augmented.\n",
            "Processing seal_augmented...\n",
            "Generated 500 augmented images for seal_augmented.\n",
            "Processing lobster_augmented...\n",
            "Generated 500 augmented images for lobster_augmented.\n",
            "Processing puufer_augmented...\n",
            "Generated 500 augmented images for puufer_augmented.\n",
            "Processing octopus_augmented...\n",
            "Generated 500 augmented images for octopus_augmented.\n",
            "Processing seahorse_augmented...\n",
            "Generated 500 augmented images for seahorse_augmented.\n",
            "Processing shark_augmented...\n",
            "Generated 500 augmented images for shark_augmented.\n",
            "Processing squid_augmented...\n",
            "Generated 500 augmented images for squid_augmented.\n",
            "Processing clamps_augmented...\n",
            "Generated 500 augmented images for clamps_augmented.\n",
            "Processing dolphin_augmented...\n",
            "Generated 500 augmented images for dolphin_augmented.\n",
            "Processing starfish_augmented...\n",
            "Generated 500 augmented images for starfish_augmented.\n",
            "Processing eel_augmented...\n",
            "Generated 500 augmented images for eel_augmented.\n",
            "Processing turtle_augmented...\n",
            "Generated 500 augmented images for turtle_augmented.\n",
            "Processing whale_augmented...\n",
            "Generated 500 augmented images for whale_augmented.\n",
            "Processing jellyfish_augmented...\n",
            "Generated 500 augmented images for jellyfish_augmented.\n",
            "Processing corals_augmented...\n",
            "Generated 500 augmented images for corals_augmented.\n",
            "Processing fish_augmented...\n",
            "Generated 500 augmented images for fish_augmented.\n"
          ]
        }
      ]
    }
  ]
}